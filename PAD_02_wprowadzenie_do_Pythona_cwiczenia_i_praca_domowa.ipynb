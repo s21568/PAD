{
 "cells": [
  {
   "cell_type": "markdown",
   "metadata": {
    "id": "YBf77-O2VMaK"
   },
   "source": [
    "## iterator"
   ]
  },
  {
   "cell_type": "code",
   "execution_count": 1,
   "metadata": {
    "id": "MobBtdWEVEu1",
    "is_executing": true
   },
   "outputs": [
    {
     "name": "stdout",
     "output_type": "stream",
     "text": [
      "0\n",
      "0\n",
      "0\n",
      "1\n",
      "1\n",
      "2\n",
      "4\n",
      "8\n",
      "15\n",
      "29\n"
     ]
    }
   ],
   "source": [
    "'''\n",
    "Zadanie 1\n",
    "Zaimplementuj własny iterator o nazwie tetranacci, zwracający kolejne liczby ciągu Tetranacciego.\n",
    "Funkcja __init__ powinna posiadać parametr o nazwie steps określający liczbę wyrazów ciągu,\n",
    "po których funkcja __next__ rzuca wyjątek StopIteration.\n",
    "Napisz program, w którym wykorzystasz swój iterator do wypisania na ekranie kolejnych wyrazów tego ciągu.\n",
    "Niech liczbę wyrazów do wypisania podaje użytkownik.\n",
    "'''\n",
    "\n",
    "\n",
    "class Tetranacci:\n",
    "    def __init__(self, steps):\n",
    "        self.steps = steps\n",
    "        self.counter = 0\n",
    "        self.values = [0, 0, 0, 1]\n",
    "\n",
    "    def __iter__(self):\n",
    "        return self\n",
    "\n",
    "    def __next__(self):\n",
    "        if self.counter < self.steps:\n",
    "            self.counter += 1\n",
    "            if self.counter <= 4:\n",
    "                return self.values[self.counter - 1]\n",
    "            else:\n",
    "                next_value = sum(self.values)\n",
    "                self.values = self.values[1:] + [next_value]\n",
    "                return next_value\n",
    "        else:\n",
    "            raise StopIteration\n",
    "\n",
    "\n",
    "steps = 10\n",
    "tet = Tetranacci(steps)\n",
    "for value in tet:\n",
    "    print(value)"
   ]
  },
  {
   "cell_type": "code",
   "execution_count": 2,
   "metadata": {
    "is_executing": true
   },
   "outputs": [
    {
     "name": "stdout",
     "output_type": "stream",
     "text": [
      "0\n",
      "0\n",
      "0\n",
      "1\n",
      "1\n"
     ]
    }
   ],
   "source": [
    "steps = 5\n",
    "tet = Tetranacci(steps)\n",
    "print(next(tet))\n",
    "print(next(tet))\n",
    "print(next(tet))\n",
    "print(next(tet))\n",
    "print(next(tet))\n",
    "# print(next(tet))"
   ]
  },
  {
   "cell_type": "markdown",
   "metadata": {
    "id": "HgA0kNjTVXwG"
   },
   "source": [
    "## generator"
   ]
  },
  {
   "cell_type": "code",
   "execution_count": 3,
   "metadata": {
    "id": "hl3BhofyVdoH",
    "is_executing": true
   },
   "outputs": [
    {
     "name": "stdout",
     "output_type": "stream",
     "text": [
      "1\n",
      "3\n",
      "6\n",
      "10\n",
      "15\n"
     ]
    }
   ],
   "source": [
    "'''\n",
    "Zadanie 2\n",
    "Zaimplementuj własny generator o nazwie accumulate,\n",
    "zwracający kolejne sumy elementów z podanego obiektu iterowalnego.\n",
    "'''\n",
    "\n",
    "\n",
    "def accumulate(iterable_object):\n",
    "    total = 0\n",
    "    for element in iterable_object:\n",
    "        total += element\n",
    "        yield total\n",
    "\n",
    "\n",
    "for val in accumulate((1, 2, 3, 4, 5)):\n",
    "    print(val)"
   ]
  },
  {
   "cell_type": "code",
   "execution_count": 4,
   "metadata": {
    "is_executing": true
   },
   "outputs": [
    {
     "name": "stdout",
     "output_type": "stream",
     "text": [
      "1\n",
      "3\n"
     ]
    }
   ],
   "source": [
    "my_gen = accumulate([1, 2, 3, 4, 5])\n",
    "print(next(my_gen))\n",
    "print(next(my_gen))"
   ]
  },
  {
   "cell_type": "code",
   "execution_count": 5,
   "metadata": {
    "id": "ffhbiOTJVnmB",
    "is_executing": true
   },
   "outputs": [
    {
     "name": "stdout",
     "output_type": "stream",
     "text": [
      "Hello\n",
      "Nice to meet you Bartek\n"
     ]
    }
   ],
   "source": [
    "'''\n",
    "Zadanie 3\n",
    "\n",
    "Napisz własny dekorator o nazwie hello. Wynikiem jego działania powinno być:\n",
    "• wypisanie na ekranie napisu hello\n",
    "• wywołanie funkcji przekazanej jako argument.\n",
    "'''\n",
    "\n",
    "\n",
    "def hello(my_function):\n",
    "    def wrapper(*args, **kwargs):\n",
    "        print(\"Hello\")\n",
    "        return my_function(*args, **kwargs)\n",
    "\n",
    "    return wrapper\n",
    "\n",
    "\n",
    "@hello\n",
    "def greet(name):\n",
    "    print(f\"Nice to meet you {name}\")\n",
    "\n",
    "\n",
    "greet(\"Bartek\")"
   ]
  },
  {
   "cell_type": "code",
   "execution_count": 6,
   "metadata": {
    "id": "NjZRSS6sVrm5",
    "is_executing": true
   },
   "outputs": [
    {
     "name": "stdout",
     "output_type": "stream",
     "text": [
      "1\n",
      "2\n",
      "4\n",
      "8\n",
      "15\n",
      "28\n",
      "52\n",
      "96\n",
      "177\n",
      "None\n"
     ]
    }
   ],
   "source": [
    "'''\n",
    "Zadanie 4\n",
    "Zaimplementuj własną funkcję o nazwie tetranacci, zwracający określony element ciągu Tetranacciego.\n",
    "Funkcja powinna posiadać parametr o nazwie n określający numer wyrazu ciągu do obliczenia.\n",
    "Obliczenia wykonuj rekurencyjnie.\n",
    "'''\n",
    "\n",
    "\n",
    "def tetranacci(a):\n",
    "    for curr in range(1,a):\n",
    "        print(c(curr))\n",
    "\n",
    "def c(curr):\n",
    "    n=1\n",
    "    if( curr-1 >0):\n",
    "        n=n+c(curr-1)\n",
    "    if( curr-2 >0):\n",
    "        n=n+c(curr-2)\n",
    "    if( curr-3 >0):\n",
    "        n=n+c(curr-3)\n",
    "    return(n)\n",
    "\n",
    "\n",
    "print(tetranacci(10))"
   ]
  },
  {
   "cell_type": "markdown",
   "metadata": {
    "id": "eDFgAg3cWRAk"
   },
   "source": [
    "## klasy"
   ]
  },
  {
   "cell_type": "code",
   "execution_count": 7,
   "metadata": {
    "id": "LMrKGhhSWMM8",
    "is_executing": true
   },
   "outputs": [
    {
     "name": "stdout",
     "output_type": "stream",
     "text": [
      "240\n",
      "50\n"
     ]
    }
   ],
   "source": [
    "'''\n",
    "Zadanie 5\n",
    "Stwórz klasę Pojazd z atrybutami predkosc_max i przebieg\n",
    "stwórz instancję klasy i wydrukuj jej atrybuty do konsoli\n",
    "tworzac instancję możesz podać dowolne wielkości\n",
    "'''\n",
    "\n",
    "\n",
    "class Pojazd:\n",
    "    def __init__(self, predkosc_max, przebieg):\n",
    "        self.predkosc_max = predkosc_max\n",
    "        self.przebieg = przebieg\n",
    "\n",
    "\n",
    "pojazd1 = Pojazd(240, 50)\n",
    "pojazd2 = Pojazd(180, 17)\n",
    "print(pojazd1.predkosc_max)\n",
    "print(pojazd1.przebieg)"
   ]
  },
  {
   "cell_type": "code",
   "execution_count": 8,
   "metadata": {
    "id": "z_dYT1f5Wexv",
    "is_executing": true
   },
   "outputs": [
    {
     "name": "stdout",
     "output_type": "stream",
     "text": [
      "300\n",
      "Autobus XYZ\n"
     ]
    }
   ],
   "source": [
    "'''\n",
    "Zadanie 6\n",
    "Stwórz klasę Autobus, która dziedziczy po Pojeździe utworzonym wcześniej,\n",
    "ale do atrybutów Pojazdu dodaj jeszcze nazwę modelu\n",
    "stwórz instancję klasy i wydrukuj jej atrybuty\n",
    "'''\n",
    "\n",
    "\n",
    "class Autobus(Pojazd):\n",
    "    def __init__(self, predkosc_max, przebieg, nazwa_modelu):\n",
    "        super().__init__(predkosc_max, przebieg)\n",
    "        self.nazwa_modelu = nazwa_modelu\n",
    "\n",
    "\n",
    "autobus1 = Autobus(300, 20, \"Autobus XYZ\")\n",
    "print(autobus1.predkosc_max)\n",
    "print(autobus1.nazwa_modelu)"
   ]
  },
  {
   "cell_type": "code",
   "execution_count": 9,
   "metadata": {
    "id": "CDj9cBQoWj-v",
    "is_executing": true
   },
   "outputs": [
    {
     "name": "stdout",
     "output_type": "stream",
     "text": [
      "Autobus XYZ pomieści 50 osób.\n",
      "Autobus XYZ pomieści 20 osób.\n",
      "Pojazd XYZ pomieści 20 osób.\n",
      "Pojazd XYZ pomieści 3 osób.\n"
     ]
    }
   ],
   "source": [
    "'''\n",
    "Zadanie 7\n",
    "klasie Pojazd utwórz metodę liczba_miejsc, która będzie przyjmowała jako argument liczbę miejsc i wyświetlała komunikat:\n",
    "\"{TU WSTAWIMY NAZWE POJAZDU} pomieści {LICZBA MIEJSC} osób.\"\n",
    "Klasa Autobus ma też dziedziczyć tę metodę, ale dodatkowo przyjmować wartość domyślną dla liczby miejsc = 50\n",
    "Utwórz instancję klasy aby zaprezentować działanie\n",
    "'''\n",
    "\n",
    "\n",
    "class Pojazd:\n",
    "    color = \"WHITE\"\n",
    "\n",
    "    def __init__(self, predkosc_max, przebieg, nazwa_modelu):\n",
    "        self.predkosc_max = predkosc_max\n",
    "        self.przebieg = przebieg\n",
    "        self.nazwa_modelu = nazwa_modelu\n",
    "\n",
    "    def liczba_miejsc(self, miejsca):\n",
    "        return f\"{self.nazwa_modelu} pomieści {miejsca} osób.\"\n",
    "\n",
    "\n",
    "class Autobus(Pojazd):\n",
    "    def liczba_miejsc(self, miejsca=50):\n",
    "        return super().liczba_miejsc(miejsca)\n",
    "\n",
    "\n",
    "autobus1 = Autobus(300, 20, \"Autobus XYZ\")\n",
    "pojazd1 = Pojazd(300, 20, \"Pojazd XYZ\")\n",
    "print(autobus1.liczba_miejsc())\n",
    "print(autobus1.liczba_miejsc(20))\n",
    "print(pojazd1.liczba_miejsc(20))\n",
    "print(pojazd1.liczba_miejsc(3))\n"
   ]
  },
  {
   "cell_type": "code",
   "execution_count": 10,
   "metadata": {
    "id": "y2s80EMmWrKP",
    "is_executing": true
   },
   "outputs": [
    {
     "name": "stdout",
     "output_type": "stream",
     "text": [
      "True\n",
      "True\n",
      "False\n"
     ]
    }
   ],
   "source": [
    "'''\n",
    "Zadanie 8\n",
    "Sprawdź czy obiekt autobus jest instancją klasy Pojazd\n",
    "'''\n",
    "print(isinstance(autobus1, Pojazd))\n",
    "print(isinstance(autobus1, Autobus))\n",
    "print(isinstance(pojazd1, Autobus))"
   ]
  },
  {
   "cell_type": "markdown",
   "metadata": {
    "id": "jjNBmv7pVwP_"
   },
   "source": [
    "## PRACA DOMOWA (15 pkt)"
   ]
  },
  {
   "cell_type": "code",
   "execution_count": 11,
   "metadata": {
    "id": "TTUMq_uuVx32",
    "is_executing": true
   },
   "outputs": [
    {
     "name": "stdout",
     "output_type": "stream",
     "text": [
      "1\n",
      "2\n",
      "4\n",
      "8\n",
      "15\n",
      "28\n",
      "52\n",
      "96\n",
      "177\n",
      "326\n",
      "600\n",
      "None\n"
     ]
    }
   ],
   "source": [
    "'''\n",
    "Zadanie 1 (4 pkt)\n",
    "Wykorzystując dekoratory, napisz cache dla funkcji tetranacci z poprzedniego zadania.\n",
    "Ten dekorator powinien zapobiegać przed ponownym obliczaniem tych samych wartości.\n",
    "'''\n",
    "def tetranacci(a):\n",
    "    list=[]\n",
    "    for curr in range(1,a):\n",
    "        n=1\n",
    "        if( curr-1 >0):\n",
    "            n=n+list[curr-2]\n",
    "        if( curr-2 >0):\n",
    "            n=n+list[curr-3]\n",
    "        if( curr-3 >0):\n",
    "            n=n+list[curr-4]\n",
    "        list.append(n)\n",
    "        print(n)\n",
    "\n",
    "print(tetranacci(12))"
   ]
  },
  {
   "cell_type": "code",
   "execution_count": 12,
   "metadata": {
    "id": "Q_Ur2Z9uWF-l",
    "is_executing": true
   },
   "outputs": [
    {
     "name": "stdout",
     "output_type": "stream",
     "text": [
      "10 \n",
      "10 \n",
      "10 \n",
      "10 \n",
      "10 \n",
      "10 \n",
      "10 \n",
      "10 \n"
     ]
    }
   ],
   "source": [
    "'''\n",
    "Zadanie 2 (4 pkt)\n",
    "Zaimplementuj własny generator o nazwie repeat, zwracający obiekt podany przez użytkownika dokładnie N razy.\n",
    "Jeśli wartość parametru N nie została określona, generator powinien zwracać wartości w nieskończoność.\n",
    "\n",
    "PRZYKŁAD\n",
    "repeat(10, 3) → 10 10 10\n",
    "repeat(10, 5) → 10 10 10 10 10\n",
    "repeat(5) → 5 5 5 5 5 5 5 5 5 5 5 5 5 5 5…\n",
    "repeat(5, None) → 5 5 5 5 5 5 5 5 5 5 5 5 5 5 5…\n",
    "'''\n",
    "\n",
    "\n",
    "def repeat(a, b: int | None=None):\n",
    "    c = 0\n",
    "    while (b==None or c < b ):\n",
    "        print(str(a) + \" \")\n",
    "        if (b != None):\n",
    "            c = c + 1\n",
    "\n",
    "\n",
    "repeat(10, 3)\n",
    "repeat(10, 5)\n",
    "# repeat(5)\n",
    "# repeat(5, None)"
   ]
  },
  {
   "cell_type": "code",
   "execution_count": 13,
   "metadata": {
    "id": "gChh80FsWzT7",
    "is_executing": true
   },
   "outputs": [
    {
     "name": "stdout",
     "output_type": "stream",
     "text": [
      "WHITE\n",
      "WHITE\n"
     ]
    }
   ],
   "source": [
    "'''\n",
    "Zadanie 3 (1 pkt)\n",
    "W kodzie z zajęć w klasie Pojazd utwórz atrybut, który niezależnie od utworzonego obiektu będzie miał taką samą wartość.\n",
    "każdy obiekt ma mieć kolor biały\n",
    "'''\n",
    "\n",
    "\n",
    "class Pojazd:\n",
    "    color = \"WHITE\"\n",
    "\n",
    "    def __init__(self, predkosc_max, przebieg, nazwa_modelu):\n",
    "        self.predkosc_max = predkosc_max\n",
    "        self.przebieg = przebieg\n",
    "        self.nazwa_modelu = nazwa_modelu\n",
    "\n",
    "    def liczba_miejsc(self, miejsca):\n",
    "        return f\"{self.nazwa_modelu} pomieści {miejsca} osób.\"\n",
    "\n",
    "\n",
    "autobus1 = Autobus(300, 20, \"Autobus XYZ\")\n",
    "pojazd1 = Pojazd(300, 20, \"Pojazd XYZ\")\n",
    "print(autobus1.color)\n",
    "print(pojazd1.color)\n"
   ]
  },
  {
   "cell_type": "code",
   "execution_count": 14,
   "metadata": {
    "id": "Q4Js_zjIXHZi",
    "is_executing": true
   },
   "outputs": [
    {
     "name": "stdout",
     "output_type": "stream",
     "text": [
      "2200\n",
      "2000\n"
     ]
    }
   ],
   "source": [
    "'''\n",
    "Zadanie 4 (2 pkt)\n",
    "Wykorzystaj klasy Autobus i Pojazd.\n",
    "Zdefiniuj metodę opłata, k†óra będzie miała wartość domyślną liczba_miejsc * 100\n",
    "Jeżeli Pojazd jest instancją Autobusu, opłata ma zostać powiększona o 10% wartości opłaty początkowej.\n",
    "Np. jeżeli autobus domyślnie ma 50 miejsc to opłata całkowita wyniesie 5500\n",
    "'''\n",
    "\n",
    "\n",
    "class Pojazd:\n",
    "    color = \"WHITE\"\n",
    "    miejsca = 0\n",
    "\n",
    "    def __init__(self, predkosc_max, przebieg, nazwa_modelu):\n",
    "        self.predkosc_max = predkosc_max\n",
    "        self.przebieg = przebieg\n",
    "        self.nazwa_modelu = nazwa_modelu\n",
    "\n",
    "    def liczba_miejsc(self, miejsca):\n",
    "        self.miejsca = miejsca\n",
    "        return f\"{self.nazwa_modelu} pomieści {miejsca} osób.\"\n",
    "\n",
    "    def oplata(self):\n",
    "        return self.miejsca * 100\n",
    "\n",
    "\n",
    "class Autobus(Pojazd):\n",
    "    def liczba_miejsc(self, miejsca=50):\n",
    "        return super().liczba_miejsc(miejsca)\n",
    "\n",
    "    def oplata(self):\n",
    "        return self.miejsca * 110\n",
    "\n",
    "autobus1 = Autobus(300, 20, \"Autobus XYZ\")\n",
    "pojazd1 = Pojazd(300, 20, \"Pojazd XYZ\")\n",
    "autobus1.liczba_miejsc(20)\n",
    "pojazd1.liczba_miejsc(20)\n",
    "\n",
    "print(autobus1.oplata())\n",
    "print(pojazd1.oplata())"
   ]
  },
  {
   "cell_type": "code",
   "execution_count": 15,
   "metadata": {
    "id": "BsdImsIAXXsu",
    "is_executing": true
   },
   "outputs": [
    {
     "name": "stdout",
     "output_type": "stream",
     "text": [
      "2*x^2+3*x+1\n",
      "1\n",
      "6\n",
      "(inf, inf)\n",
      "(nan, nan)\n",
      "(-1.5, -1.5)\n",
      "(nan, nan)\n",
      "(2.0, 3.0)\n",
      "(-2.0, -2.0)\n"
     ]
    }
   ],
   "source": [
    "'''\n",
    "Zadanie 5 (4 pkt)\n",
    "Napisz klasę FunkcjaKwadratowa, która przechowuje funkcje typu $ax^2$+bx+c.\n",
    "Klasa powinna zawierać trzy pola: a, b, c, które są przypisywane w konstruktorze.\n",
    "Główną metodą powinna być rozwiaz(), która zwraca miejsca zerowe podanej funkcji.\n",
    "Należy zwrócić uwagę na przypadki gdy a=0, b=0 lub c=0,\n",
    "a także obmyślić sposób informowania o nieskończonej liczbie, jednym lub zerze rozwiązań.\n",
    "'''\n",
    "\n",
    "'''\n",
    "początek kodu dla ułatwienia\n",
    "\n",
    "'''\n",
    "import math\n",
    "\n",
    "\n",
    "class FunkcjaKwadratowa:\n",
    "    a = 0\n",
    "    b = 0\n",
    "    c = 0\n",
    "\n",
    "    def __init__(self, a, b, c):\n",
    "        self.a = a\n",
    "        self.b = b\n",
    "        self.c = c\n",
    "\n",
    "    def wypisz(self):\n",
    "        print(f\"{self.a}*x^2+{self.b}*x+{self.c}\")\n",
    "\n",
    "    def oblicz_wartosc(self, x):\n",
    "        return self.a * (x ** 2) + self.b * x + self.c\n",
    "\n",
    "    def rozwiaz(self):\n",
    "        if self.a == 0 and self.b == 0:\n",
    "            if self.c == 0:\n",
    "                return float(\"inf\"), float(\"inf\")\n",
    "            else:\n",
    "                return float(\"nan\"), float(\"nan\")\n",
    "        if self.a == 0:\n",
    "            return -self.c/self.b, -self.c/self.b\n",
    "        delta = self.b**2 - 4*self.a*self.c\n",
    "        if delta < 0:\n",
    "            return float(\"nan\"), float(\"nan\")\n",
    "        return (-self.b-math.sqrt(delta))/(2*self.a), (-self.b+math.sqrt(delta))/(2*self.a)\n",
    "\n",
    "def main():\n",
    "    f1 = FunkcjaKwadratowa(2, 3, 1)\n",
    "    f1.wypisz()\n",
    "    print(f1.oblicz_wartosc(0))\n",
    "    print(f1.oblicz_wartosc(1))\n",
    "\n",
    "    print(FunkcjaKwadratowa(0, 0, 0).rozwiaz())\n",
    "    print(FunkcjaKwadratowa(0, 0, 1).rozwiaz())\n",
    "    print(FunkcjaKwadratowa(0, 2, 3).rozwiaz())\n",
    "    print(FunkcjaKwadratowa(1, 2, 3).rozwiaz())\n",
    "    print(FunkcjaKwadratowa(1, -5, 6).rozwiaz())\n",
    "    print(FunkcjaKwadratowa(1, 4, 4).rozwiaz())\n",
    "\n",
    "\n",
    "if __name__ == \"__main__\":\n",
    "    main()"
   ]
  }
 ],
 "metadata": {
  "colab": {
   "authorship_tag": "ABX9TyPfvCA8avt9JyH+RrMyhpFb",
   "provenance": []
  },
  "kernelspec": {
   "display_name": "Python 3",
   "name": "python3"
  },
  "language_info": {
   "codemirror_mode": {
    "name": "ipython",
    "version": 3
   },
   "file_extension": ".py",
   "mimetype": "text/x-python",
   "name": "python",
   "nbconvert_exporter": "python",
   "pygments_lexer": "ipython3",
   "version": "3.10.0"
  }
 },
 "nbformat": 4,
 "nbformat_minor": 0
}
